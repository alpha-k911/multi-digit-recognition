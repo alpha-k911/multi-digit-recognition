{
 "cells": [
  {
   "cell_type": "code",
   "execution_count": 2,
   "metadata": {},
   "outputs": [],
   "source": [
    "import cv2\n",
    "import numpy as np\n",
    "import matplotlib.pyplot as plt"
   ]
  },
  {
   "cell_type": "code",
   "execution_count": null,
   "metadata": {},
   "outputs": [],
   "source": [
    "from keras.models import load_model\n",
    "from tensorflow import keras\n",
    "model = keras.models.load_model('multi_digits_model_0_9.h5')"
   ]
  },
  {
   "cell_type": "code",
   "execution_count": 356,
   "metadata": {},
   "outputs": [],
   "source": [
    "def display(img, n=\"img\"):\n",
    "    a = 0\n",
    "#     cv2.imshow(n, img)\n",
    "#     cv2.waitKey(0)\n",
    "#     cv2.destroyAllWindows()\n",
    "    \n",
    "def display_(img, n=\"img\"):\n",
    "    cv2.imshow(n, img)\n",
    "    cv2.waitKey(0)\n",
    "    cv2.destroyAllWindows()"
   ]
  },
  {
   "cell_type": "code",
   "execution_count": 4,
   "metadata": {},
   "outputs": [],
   "source": [
    "import random as rng\n",
    "import cv2\n",
    "def thresh_callback(val, src_gray, area_threshold = 35):\n",
    "    threshold = val\n",
    "    \n",
    "    canny_output = cv2.Canny(src_gray, threshold, threshold * 2)\n",
    "    display(canny_output)\n",
    "    \n",
    "    contours, _ = cv2.findContours(canny_output, cv2.RETR_CCOMP, cv2.CHAIN_APPROX_SIMPLE)\n",
    "    \n",
    "    \n",
    "    contours_poly = [None]*len(contours)\n",
    "    boundRect = [None]*len(contours)\n",
    "    centers = [None]*len(contours)\n",
    "    radius = [None]*len(contours)\n",
    "    for i, c in enumerate(contours):\n",
    "        contours_poly[i] = cv2.approxPolyDP(c, 3, True)\n",
    "        boundRect[i] = cv2.boundingRect(contours_poly[i])\n",
    "        centers[i], radius[i] = cv2.minEnclosingCircle(contours_poly[i])\n",
    "    \n",
    "    \n",
    "    drawing = np.zeros((canny_output.shape[0], canny_output.shape[1], 3), dtype=np.uint8)\n",
    "    drawing = cv2.cvtColor(src_gray,cv2.COLOR_GRAY2BGR)\n",
    "    print(len(contours))\n",
    "    \n",
    "    for i in range(len(contours)):\n",
    "        print(i)\n",
    "        color = (rng.randint(0,256), rng.randint(0,256), rng.randint(0,256))\n",
    "        x,y,w,h = boundRect[i]\n",
    "        print(\"Area:\",w*h)\n",
    "        if w*h > area_threshold:\n",
    "            cv2.rectangle(drawing, (int(boundRect[i][0]), int(boundRect[i][1])), \\\n",
    "              (int(boundRect[i][0]+boundRect[i][2]), int(boundRect[i][1]+boundRect[i][3])), color, 0)\n",
    "        display(drawing)\n",
    "#         cv2.drawContours(drawing, contours_poly, i, color)\n",
    "#         if a < b:\n",
    "#         cv2.circle(drawing, (int(centers[i][0]), int(centers[i][1])), int(radius[i]), color, 2)\n",
    "    \n",
    "    \n",
    "#     cv.imshow('Contours', drawing)\n",
    "    display(drawing)\n",
    "    cv2.imwrite('out/30.png', drawing)\n",
    "    return contours, boundRect"
   ]
  },
  {
   "cell_type": "code",
   "execution_count": 5,
   "metadata": {},
   "outputs": [],
   "source": [
    "def preprocessing(im, border=10):\n",
    "#     im = cv2.imread('../second/cells/'+i,0)\n",
    "    _,th1 = cv2.threshold(im, 127,255, cv2.THRESH_OTSU)\n",
    "#     plt.imshow(255-th1,cmap='gray');\n",
    "    img = 255-th1\n",
    "    h,w = img.shape\n",
    "    mask = np.ones(img.shape[:2], np.uint8)*0\n",
    "    mt = border\n",
    "    mask[mt:h-mt, mt:w-mt] = 255\n",
    "    # display(mask)\n",
    "    img = cv2.bitwise_and(img,img,mask = mask)\n",
    "#     display(img)\n",
    "    return img"
   ]
  },
  {
   "cell_type": "code",
   "execution_count": 6,
   "metadata": {},
   "outputs": [],
   "source": [
    "def contours_(img):\n",
    "    mser = cv2.MSER_create()\n",
    "\n",
    "    #Your image path i-e receipt path\n",
    "    # img = cv2.imread('svhn-data/train_answer/3.jpg')\n",
    "\n",
    "    #Convert to gray scale\n",
    "#     gray = cv2.cvtColor(img, cv2.COLOR_BGR2GRAY)\n",
    "\n",
    "    vis = img.copy()\n",
    "\n",
    "    #detect regions in gray scale image\n",
    "    regions, _ = mser.detectRegions(gray)\n",
    "\n",
    "    hulls = [cv2.convexHull(p.reshape(-1, 1, 2)) for p in regions]\n",
    "\n",
    "    cv2.polylines(vis, hulls, 1, (0, 255, 0))\n",
    "\n",
    "    display(vis)\n",
    "    mask = np.zeros((img.shape[0], img.shape[1], 1), dtype=np.uint8)\n",
    "\n",
    "    for contour in hulls:\n",
    "\n",
    "        cv2.drawContours(mask, [contour], -1, (255, 255, 255), -1)\n",
    "\n",
    "    #this is used to find only text regions, remaining are ignored\n",
    "    text_only = cv2.bitwise_and(img, img, mask=mask)\n",
    "\n"
   ]
  },
  {
   "cell_type": "code",
   "execution_count": 185,
   "metadata": {},
   "outputs": [
    {
     "name": "stdout",
     "output_type": "stream",
     "text": [
      "3\n"
     ]
    }
   ],
   "source": [
    "img = cv2.imread('../second/cells/img509_30.5_.jpg',0)\n",
    "# img = cv2.resize(img, (28,28))\n",
    "# t = np.mean(img) + np.std(img)/2\n",
    "t = 150\n",
    "# img[img < t] = 0\n",
    "# img[img > t] = 255\n",
    "img = preprocessing(img)\n",
    "vis = cv2.Canny(img,1,0)\n",
    "display(img)\n",
    "display(vis)\n",
    "mser = cv2.MSER_create()\n",
    "regions = mser.detectRegions(vis)\n",
    "hulls = [cv2.convexHull(p.reshape(-1, 1, 2)) for p in regions[0]]\n",
    "mser = cv2.MSER_create()\n",
    "regions, _ = mser.detectRegions(vis)\n",
    "print(len(regions))\n",
    "for p in regions:\n",
    "    xmax, ymax = np.amax(p, axis=0)\n",
    "    xmin, ymin = np.amin(p, axis=0)\n",
    "    cv2.rectangle(vis, (xmin,ymax), (xmax,ymin), (150), 1)\n",
    "#     display(vis)\n",
    "\n",
    "display(vis)\n",
    "# vis = cv2.resize(vis, (28,28))\n",
    "# display(vis)\n",
    "cv2.polylines(vis, hulls, 10, (125))\n",
    "cv2.imwrite('/tmp/tmp1.png', vis)\n",
    "display(vis)"
   ]
  },
  {
   "cell_type": "code",
   "execution_count": 186,
   "metadata": {},
   "outputs": [],
   "source": [
    "#opencv\n",
    "canny_output = cv2.Canny(img,1,0)\n",
    "contours, hierarchy = cv2.findContours(canny_output, cv2.RETR_TREE, cv2.CHAIN_APPROX_SIMPLE)\n",
    "# Draw contours\n",
    "drawing = np.zeros((canny_output.shape[0], canny_output.shape[1], 3), dtype=np.uint8)\n",
    "for i in range(len(contours)):\n",
    "    color = (rng.randint(0,256), rng.randint(0,256), rng.randint(0,256))\n",
    "    cv2.drawContours(drawing, contours, i, color, 2, cv2.LINE_8, hierarchy, 0)"
   ]
  },
  {
   "cell_type": "markdown",
   "metadata": {},
   "source": [
    "## Main"
   ]
  },
  {
   "cell_type": "code",
   "execution_count": 428,
   "metadata": {},
   "outputs": [
    {
     "name": "stdout",
     "output_type": "stream",
     "text": [
      "31 21 8 9\n",
      "31 21 8 9\n",
      "44 14 10 13\n",
      "44 14 10 13\n",
      "18 12 9 23\n",
      "49 7 3 3\n",
      "49 7 3 3\n",
      "53 4 14 4\n"
     ]
    }
   ],
   "source": [
    "#opencv\n",
    "#finding rectangles\n",
    "img = cv2.imread('../second/cells/img1200_1.5_.jpg',0)\n",
    "img = preprocessing(img, border=5)\n",
    "canny_output = cv2.Canny(img,1,0)\n",
    "display(img)\n",
    "display(canny_output)\n",
    "contours, hierarchy = cv2.findContours(canny_output, cv2.RETR_TREE, cv2.CHAIN_APPROX_SIMPLE)\n",
    "# Draw contours\n",
    "drawing = np.zeros((canny_output.shape[0], canny_output.shape[1], 3), dtype=np.uint8)\n",
    "rec = []\n",
    "for contour in contours:\n",
    "    (x,y,w,h) = cv2.boundingRect(contour)\n",
    "    rec.append((x,y,w,h))\n",
    "    print(x,y,w,h)\n",
    "    cv2.rectangle(drawing, (x,y), (x+w,y+h), (0,255,0), 2)\n",
    "display(drawing)"
   ]
  },
  {
   "cell_type": "code",
   "execution_count": 429,
   "metadata": {},
   "outputs": [
    {
     "name": "stdout",
     "output_type": "stream",
     "text": [
      "[(31, 21, 39, 30), (31, 21, 39, 30), (44, 14, 54, 27), (44, 14, 54, 27), (18, 12, 27, 35), (49, 7, 52, 10), (49, 7, 52, 10), (53, 4, 67, 8)]\n",
      "[(18, 12, 27, 35), (31, 21, 39, 30), (31, 21, 39, 30), (44, 14, 54, 27), (44, 14, 54, 27), (49, 7, 52, 10), (49, 7, 52, 10), (53, 4, 67, 8)]\n",
      "9 23\n",
      "8 9\n",
      "8 9\n",
      "10 13\n",
      "10 13\n",
      "3 3\n",
      "3 3\n",
      "14 4\n"
     ]
    }
   ],
   "source": [
    "rects = []\n",
    "for contour in contours:\n",
    "    (x,y,w,h) = cv2.boundingRect(contour)\n",
    "    x1=x\n",
    "    y1=y\n",
    "    x2=x+w\n",
    "    y2=y+h\n",
    "    rects.append((x1,y1,x2,y2))\n",
    "print(rects)\n",
    "rects.sort(key=lambda x: x[0])\n",
    "print(rects)\n",
    "drawing = cv2.cvtColor(img, cv2.COLOR_GRAY2BGR)\n",
    "for r in rects:\n",
    "    (x,y,x2,y2) = r\n",
    "#     rec.append((x,y,w,h))\n",
    "    print(x2-x,y2-y)\n",
    "    cv2.rectangle(drawing, (x,y), (x2,y2), (0,255,0), 2)\n",
    "    display(drawing)"
   ]
  },
  {
   "cell_type": "code",
   "execution_count": 430,
   "metadata": {},
   "outputs": [
    {
     "name": "stdout",
     "output_type": "stream",
     "text": [
      "8\n",
      "checking for: (18, 12, 27, 35) : 0\n",
      "checking for: (31, 21, 39, 30) : 1\n",
      "yes\n",
      "previous: (31, 21, 39, 30)\n",
      "new: (31, 21, 39, 30)\n",
      "deleting: (31, 21, 39, 30)\n",
      "checking for: (31, 21, 39, 30) : 1\n",
      "checking for: (44, 14, 54, 27) : 2\n",
      "yes\n",
      "previous: (44, 14, 54, 27)\n",
      "new: (44, 14, 54, 27)\n",
      "deleting: (44, 14, 54, 27)\n",
      "checking for: (44, 14, 54, 27) : 2\n",
      "yes\n",
      "previous: (44, 14, 54, 27)\n",
      "new: (44, 7, 54, 27)\n",
      "deleting: (49, 7, 52, 10)\n",
      "checking for: (44, 7, 54, 27) : 2\n",
      "yes\n",
      "previous: (44, 7, 54, 27)\n",
      "new: (44, 7, 54, 27)\n",
      "deleting: (49, 7, 52, 10)\n",
      "checking for: (44, 7, 54, 27) : 2\n",
      "yes\n",
      "previous: (44, 7, 54, 27)\n",
      "new: (44, 4, 67, 27)\n",
      "deleting: (53, 4, 67, 8)\n",
      "9 23\n",
      "8 9\n",
      "23 23\n"
     ]
    }
   ],
   "source": [
    "def group_together(rects):\n",
    "    p = 0\n",
    "    grouped = []\n",
    "    l = len(rects)\n",
    "    i  = 0\n",
    "    print(l)\n",
    "    while i != len(rects)-1:\n",
    "        \n",
    "        (x1,y1,x2,y2) = rects[i]\n",
    "        print(\"checking for:\",rects[i], \":\", i)\n",
    "        (p1,q1,p2,q2) = rects[i+1]\n",
    "#         if x1 <= p1 <= x2 and y1 <= q1 <= y2:\n",
    "        if x1 <= p1 <= x2:# and y1 <= q1 <= y2:\n",
    "            print('yes')\n",
    "            xx1 = min(x1,p1)\n",
    "            yy1 = min(y1,q1)\n",
    "            xx2 = max(x2,p2)\n",
    "            yy2 = max(y2,q2)\n",
    "            print(\"previous:\",rects[i])\n",
    "            rects[i] = (xx1,yy1,xx2,yy2)\n",
    "            print(\"new:\",rects[i])\n",
    "            print(\"deleting:\",rects[i+1])\n",
    "            rects.pop(i+1)\n",
    "        else:    \n",
    "            i = i+1\n",
    "#         print(\"O \")\n",
    "    display(img)\n",
    "    drawing = cv2.cvtColor(img, cv2.COLOR_GRAY2BGR)\n",
    "    for r in rects:\n",
    "        (x,y,x2,y2) = r\n",
    "    #     rec.append((x,y,w,h))\n",
    "        print(x2-x,y2-y)\n",
    "        cv2.rectangle(drawing, (x,y), (x2,y2), (0,255,0), 2)\n",
    "        display(drawing)\n",
    "group_together(rects)"
   ]
  },
  {
   "cell_type": "code",
   "execution_count": 431,
   "metadata": {},
   "outputs": [
    {
     "name": "stdout",
     "output_type": "stream",
     "text": [
      "9 23\n",
      "9 23\n",
      "Done with: (18, 12, 27, 35)\n",
      "8 9\n",
      "8 9\n",
      "Done with: (31, 21, 39, 30)\n",
      "23 23\n",
      "23 23\n",
      "Done with: (44, 4, 67, 27)\n"
     ]
    }
   ],
   "source": [
    "def pad_to_square(rects):\n",
    "    imgs = []\n",
    "    h_, w_ = 32,32\n",
    "    \n",
    "    for i in rects:\n",
    "        (x,y,x2,y2) = i\n",
    "        zero = np.zeros((h_,w_))\n",
    "        ver_pad = w_ - (y2-y)\n",
    "        hor_pad = h_ - (x2-x)\n",
    "        top_pad = ver_pad // 2\n",
    "        bot_pad = ver_pad - top_pad\n",
    "        left_pad = hor_pad // 2\n",
    "        right_pad = hor_pad - left_pad\n",
    "#         print(64 - right_pad - left_pad)\n",
    "#         print(64 - top_pad - bot_pad)\n",
    "        print(x2-x,y2-y)\n",
    "        print(w_ - right_pad - left_pad,h_-bot_pad - top_pad)\n",
    "        display(img[y:y2,x:x2])\n",
    "        zero[top_pad:h_- bot_pad, left_pad:w_ - right_pad] = img[y:y2,x:x2]\n",
    "        display(zero)\n",
    "#         print(zero.shape)\n",
    "        zero = cv2.resize(zero, (28,28))\n",
    "        display(zero)\n",
    "        imgs.append(zero)\n",
    "        print(\"Done with:\", i)\n",
    "    return imgs\n",
    "display(img)\n",
    "imgs = pad_to_square(rects)"
   ]
  },
  {
   "cell_type": "code",
   "execution_count": 432,
   "metadata": {},
   "outputs": [
    {
     "data": {
      "text/plain": [
       "(28, 28, 1)"
      ]
     },
     "execution_count": 432,
     "metadata": {},
     "output_type": "execute_result"
    }
   ],
   "source": [
    "imgs_list = imgs\n",
    "imgs = np.array(imgs)\n",
    "imgs = np.reshape(imgs,(imgs.shape[0] ,28,28,1))\n",
    "imgs[0].shape"
   ]
  },
  {
   "cell_type": "code",
   "execution_count": 433,
   "metadata": {},
   "outputs": [],
   "source": [
    "pred = model.predict(imgs)"
   ]
  },
  {
   "cell_type": "code",
   "execution_count": 434,
   "metadata": {
    "scrolled": true
   },
   "outputs": [
    {
     "name": "stdout",
     "output_type": "stream",
     "text": [
      "1\n",
      "5\n",
      "3\n"
     ]
    }
   ],
   "source": [
    "for i in range(len(pred)): \n",
    "    print(pred[i].argmax())\n",
    "    display_(imgs_list[i], str(pred[i].argmax()))"
   ]
  },
  {
   "cell_type": "code",
   "execution_count": 427,
   "metadata": {},
   "outputs": [],
   "source": [
    "dots.append(imgs_list[1])"
   ]
  },
  {
   "cell_type": "code",
   "execution_count": 391,
   "metadata": {},
   "outputs": [
    {
     "name": "stdout",
     "output_type": "stream",
     "text": [
      "(28, 28)\n",
      "(28, 28)\n",
      "(28, 28)\n",
      "(28, 28)\n",
      "(28, 28)\n",
      "(28, 28)\n",
      "(28, 28)\n",
      "(28, 28)\n",
      "(28, 28)\n",
      "(28, 28)\n",
      "(28, 28)\n",
      "(28, 28)\n",
      "(28, 28)\n",
      "(28, 28)\n",
      "(28, 28)\n",
      "(28, 28)\n",
      "(28, 28)\n",
      "(28, 28)\n",
      "(28, 28)\n",
      "(28, 28)\n",
      "(28, 28)\n",
      "(28, 28)\n",
      "(28, 28)\n",
      "(28, 28)\n",
      "(28, 28)\n",
      "(28, 28)\n",
      "(28, 28)\n",
      "(28, 28)\n",
      "(28, 28)\n",
      "(28, 28)\n",
      "(28, 28)\n"
     ]
    }
   ],
   "source": [
    "c = 0\n",
    "for i in dots:\n",
    "    cv2.imwrite(\"out/zero\"+str(c)+\"_._.png\",i)\n",
    "    print(i.shape)\n",
    "    c += 1"
   ]
  },
  {
   "cell_type": "code",
   "execution_count": 52,
   "metadata": {},
   "outputs": [],
   "source": [
    "for i in dots:\n",
    "    display(i)"
   ]
  },
  {
   "cell_type": "code",
   "execution_count": 20,
   "metadata": {},
   "outputs": [],
   "source": [
    "dots = []"
   ]
  },
  {
   "cell_type": "code",
   "execution_count": 64,
   "metadata": {},
   "outputs": [
    {
     "data": {
      "text/plain": [
       "array([[  0.        ,   0.        ,   0.        ,   0.        ,\n",
       "          0.        ,   0.        ,   0.        ,   0.        ,\n",
       "          0.        ,   0.        ,   0.        ,   0.        ,\n",
       "          0.        ,   0.        ,  18.21428653,  18.21428653,\n",
       "         11.70917427,   0.        ,   0.        ,   0.        ,\n",
       "          0.        ,   0.        ,   0.        ,   0.        ,\n",
       "          0.        ,   0.        ,   0.        ,   0.        ],\n",
       "       [  0.        ,   0.        ,   0.        ,   0.        ,\n",
       "          0.        ,   0.        ,   0.        ,   0.        ,\n",
       "          0.        ,   0.        ,   0.        ,  35.12757615,\n",
       "         54.64286149,  54.64286149, 255.        , 255.        ,\n",
       "        183.44376992,  54.64286149,  19.51533745,   0.        ,\n",
       "          0.        ,   0.        ,   0.        ,   0.        ,\n",
       "          0.        ,   0.        ,   0.        ,   0.        ],\n",
       "       [  0.        ,   0.        ,   0.        ,   0.        ,\n",
       "          0.        ,   0.        ,   0.        ,   0.        ,\n",
       "          0.        ,   0.        ,  45.53572297, 196.45415484,\n",
       "        255.        , 255.        , 255.        , 255.        ,\n",
       "        255.        , 255.        ,  91.07156754,   0.        ,\n",
       "          0.        ,   0.        ,   0.        ,   0.        ,\n",
       "          0.        ,   0.        ,   0.        ,   0.        ],\n",
       "       [  0.        ,   0.        ,   0.        ,   0.        ,\n",
       "          0.        ,   0.        ,   0.        ,   0.        ,\n",
       "         27.32144594, 127.5       , 191.25      , 255.        ,\n",
       "        255.        , 255.        , 255.        , 255.        ,\n",
       "        255.        , 255.        , 173.03578377,  27.32132435,\n",
       "          0.        ,   0.        ,   0.        ,   0.        ,\n",
       "          0.        ,   0.        ,   0.        ,   0.        ],\n",
       "       [  0.        ,   0.        ,   0.        ,   0.        ,\n",
       "          0.        ,   0.        ,   0.        ,   0.        ,\n",
       "         54.64289188, 255.        , 255.        , 255.        ,\n",
       "        255.        , 255.        , 255.        , 255.        ,\n",
       "        255.        , 255.        , 255.        ,  54.6426487 ,\n",
       "          0.        ,   0.        ,   0.        ,   0.        ,\n",
       "          0.        ,   0.        ,   0.        ,   0.        ],\n",
       "       [  0.        ,   0.        ,   0.        ,   0.        ,\n",
       "          0.        ,   0.        ,   0.        ,  14.31116742,\n",
       "        212.06630668, 255.        , 255.        , 255.        ,\n",
       "        255.        ,  68.9540593 ,  54.64289188,  97.57639413,\n",
       "        255.        , 255.        , 255.        ,  54.6426487 ,\n",
       "          0.        ,   0.        ,   0.        ,   0.        ,\n",
       "          0.        ,   0.        ,   0.        ,   0.        ],\n",
       "       [  0.        ,   0.        ,   0.        ,   0.        ,\n",
       "          0.        ,   0.        ,   0.        ,  18.21421623,\n",
       "        255.        , 255.        , 255.        , 102.78054897,\n",
       "         18.21433783,   1.30101917,   0.        ,   3.9030575 ,\n",
       "        102.78077478, 255.        , 255.        , 240.68871968,\n",
       "         16.91319706,   0.        ,   0.        ,   0.        ,\n",
       "          0.        ,   0.        ,   0.        ,   0.        ],\n",
       "       [  0.        ,   0.        ,   0.        ,   0.        ,\n",
       "          0.        ,   0.        ,   0.        , 255.        ,\n",
       "        255.        , 255.        , 245.89289188,  84.56625457,\n",
       "          0.        ,   0.        ,   0.        ,   0.        ,\n",
       "         91.07156754, 255.        , 255.        , 240.68881521,\n",
       "         16.91320575,   0.        ,   0.        ,   0.        ,\n",
       "          0.        ,   0.        ,   0.        ,   0.        ],\n",
       "       [  0.        ,   0.        ,   0.        ,   0.        ,\n",
       "          0.        ,   0.        ,   0.        , 255.        ,\n",
       "        255.        , 255.        , 127.5       ,   0.        ,\n",
       "          0.        ,   0.        ,   0.        ,  11.70914645,\n",
       "        126.19911111, 255.        , 255.        ,  54.6426487 ,\n",
       "          0.        ,   0.        ,   0.        ,   0.        ,\n",
       "          0.        ,   0.        ,   0.        ,   0.        ],\n",
       "       [  0.        ,   0.        ,   0.        ,   0.        ,\n",
       "          0.        ,   0.        ,   0.        , 255.        ,\n",
       "        255.        , 222.47456424,  81.96433783,   0.        ,\n",
       "          0.        ,   0.        ,   6.50506978, 126.1987637 ,\n",
       "        255.        , 255.        , 255.        ,  54.6426487 ,\n",
       "          0.        ,   0.        ,   0.        ,   0.        ,\n",
       "          0.        ,   0.        ,   0.        ,   0.        ],\n",
       "       [  0.        ,   0.        ,   0.        ,   0.        ,\n",
       "          0.        ,   0.        ,   0.        , 127.5       ,\n",
       "        127.5       ,  81.96433783,   0.        ,   0.        ,\n",
       "          0.        ,   0.        ,  18.21421623, 255.        ,\n",
       "        255.        , 255.        , 173.03578377,  27.32132435,\n",
       "          0.        ,   0.        ,   0.        ,   0.        ,\n",
       "          0.        ,   0.        ,   0.        ,   0.        ],\n",
       "       [  0.        ,   0.        ,   0.        ,   0.        ,\n",
       "          0.        ,   0.        ,   0.        ,   0.        ,\n",
       "          0.        ,   0.        ,   0.        ,   0.        ,\n",
       "          0.        ,   0.        , 170.43374543, 255.        ,\n",
       "        255.        , 173.03566217,  32.52552261,   0.        ,\n",
       "          0.        ,   0.        ,   0.        ,   0.        ,\n",
       "          0.        ,   0.        ,   0.        ,   0.        ],\n",
       "       [  0.        ,   0.        ,   0.        ,   0.        ,\n",
       "          0.        ,   0.        ,   0.        ,   0.        ,\n",
       "          0.        ,   0.        ,   0.        ,   0.        ,\n",
       "          0.        , 186.0459407 , 255.        , 255.        ,\n",
       "        255.        , 127.5       ,   0.        ,   0.        ,\n",
       "          0.        ,   0.        ,   0.        ,   0.        ,\n",
       "          0.        ,   0.        ,   0.        ,   0.        ],\n",
       "       [  0.        ,   0.        ,   0.        ,   0.        ,\n",
       "          0.        ,   0.        ,   0.        ,   0.        ,\n",
       "          0.        ,   0.        ,   0.        ,   0.        ,\n",
       "        186.0459407 , 253.69898952, 255.        , 255.        ,\n",
       "        255.        , 245.89289188,  84.56648038,   0.        ,\n",
       "          0.        ,   0.        ,   0.        ,   0.        ,\n",
       "          0.        ,   0.        ,   0.        ,   0.        ],\n",
       "       [  0.        ,   0.        ,   0.        ,   0.        ,\n",
       "          0.        ,   0.        ,   0.        ,   0.        ,\n",
       "          0.        ,   6.50506978, 136.60710812, 255.        ,\n",
       "        255.        , 255.        , 255.        , 255.        ,\n",
       "        255.        , 255.        , 255.        ,  54.6426487 ,\n",
       "          0.        ,   0.        ,   0.        ,   0.        ,\n",
       "          0.        ,   0.        ,   0.        ,   0.        ],\n",
       "       [  0.        ,   0.        ,   0.        ,   0.        ,\n",
       "          0.        ,   0.        ,   0.        ,   0.        ,\n",
       "          0.        ,  91.07132435, 255.        , 255.        ,\n",
       "        255.        , 255.        , 255.        , 255.        ,\n",
       "        255.        , 255.        , 255.        ,  97.57620305,\n",
       "          3.90303145,   0.        ,   0.        ,   0.        ,\n",
       "          0.        ,   0.        ,   0.        ,   0.        ],\n",
       "       [  0.        ,   0.        ,   0.        ,   0.        ,\n",
       "          0.        ,   0.        ,   0.        ,   0.        ,\n",
       "          0.        ,  91.07132435, 255.        , 255.        ,\n",
       "        255.        , 255.        , 255.        , 255.        ,\n",
       "        255.        , 255.        , 255.        , 255.        ,\n",
       "        102.78069662,   0.        ,   0.        ,   0.        ,\n",
       "          0.        ,   0.        ,   0.        ,   0.        ],\n",
       "       [  0.        ,   0.        ,   0.        ,   0.        ,\n",
       "          0.        ,   0.        ,   0.        ,   0.        ,\n",
       "          0.        ,  45.53566217, 191.25      , 173.03566217,\n",
       "        127.5       , 127.5       , 127.5       , 127.5       ,\n",
       "        173.03578377, 255.        , 255.        , 255.        ,\n",
       "        255.        , 118.39289188,   0.        ,   0.        ,\n",
       "          0.        ,   0.        ,   0.        ,   0.        ],\n",
       "       [  0.        ,   0.        ,   0.        ,   0.        ,\n",
       "          0.        ,   0.        ,   0.        ,   0.        ,\n",
       "          0.        ,   0.        ,  45.53578377,  32.52552261,\n",
       "          0.        ,   0.        ,   0.        ,   0.        ,\n",
       "         32.52560946, 173.03578377, 255.        , 255.        ,\n",
       "        255.        , 236.78578377,   0.        ,   0.        ,\n",
       "          0.        ,   0.        ,   0.        ,   0.        ],\n",
       "       [  0.        ,   0.        ,   0.        ,   0.        ,\n",
       "          0.        ,   0.        ,   0.        , 200.3573513 ,\n",
       "        200.3573513 , 128.8012363 ,   0.        ,   0.        ,\n",
       "          0.        ,   0.        ,   0.        ,   0.        ,\n",
       "          0.        ,  27.32132435, 183.44369392, 255.        ,\n",
       "        255.        , 236.78578377,   0.        ,   0.        ,\n",
       "          0.        ,   0.        ,   0.        ,   0.        ],\n",
       "       [  0.        ,   0.        ,   0.        ,   0.        ,\n",
       "          0.        ,   0.        ,   0.        , 255.        ,\n",
       "        255.        , 163.92867565,   0.        ,   0.        ,\n",
       "          0.        ,   0.        ,   0.        ,   0.        ,\n",
       "          0.        ,   0.        , 163.92843246, 255.        ,\n",
       "        255.        , 236.78578377,   0.        ,   0.        ,\n",
       "          0.        ,   0.        ,   0.        ,   0.        ],\n",
       "       [  0.        ,   0.        ,   0.        ,   0.        ,\n",
       "          0.        ,   0.        , 236.78566217, 255.        ,\n",
       "        255.        , 163.92867565,   0.        ,   0.        ,\n",
       "          0.        ,   0.        ,   0.        ,   0.        ,\n",
       "          6.50508715, 136.60710812, 255.        , 255.        ,\n",
       "        255.        , 219.87257802,   0.        ,   0.        ,\n",
       "          0.        ,   0.        ,   0.        ,   0.        ],\n",
       "       [  0.        ,   0.        ,   0.        ,   0.        ,\n",
       "          0.        ,   0.        , 236.78566217, 255.        ,\n",
       "        255.        , 163.92867565,   0.        ,   0.        ,\n",
       "          0.        ,   0.        ,   3.90303145,  54.6426487 ,\n",
       "        126.19895478, 255.        , 255.        , 255.        ,\n",
       "        204.26038275,   0.        ,   0.        ,   0.        ,\n",
       "          0.        ,   0.        ,   0.        ,   0.        ],\n",
       "       [  0.        ,   0.        ,   0.        ,   0.        ,\n",
       "          0.        ,   0.        , 236.78566217, 255.        ,\n",
       "        255.        , 196.45419826,  91.07156754,  91.07156754,\n",
       "         91.07156754,  91.07156754, 102.78069662, 255.        ,\n",
       "        255.        , 255.        , 255.        , 255.        ,\n",
       "         18.21421623,   0.        ,   0.        ,   0.        ,\n",
       "          0.        ,   0.        ,   0.        ,   0.        ],\n",
       "       [  0.        ,   0.        ,   0.        ,   0.        ,\n",
       "          0.        ,   0.        , 236.78566217, 255.        ,\n",
       "        255.        , 255.        , 255.        , 255.        ,\n",
       "        255.        , 255.        , 255.        , 255.        ,\n",
       "        255.        , 255.        , 173.03578377, 127.5       ,\n",
       "          9.10710812,   0.        ,   0.        ,   0.        ,\n",
       "          0.        ,   0.        ,   0.        ,   0.        ],\n",
       "       [  0.        ,   0.        ,   0.        ,   0.        ,\n",
       "          0.        ,   0.        ,  84.56643696, 255.        ,\n",
       "        255.        , 255.        , 255.        , 255.        ,\n",
       "        255.        , 255.        , 255.        , 255.        ,\n",
       "        255.        , 173.03578377,  32.52560946,   0.        ,\n",
       "          0.        ,   0.        ,   0.        ,   0.        ,\n",
       "          0.        ,   0.        ,   0.        ,   0.        ],\n",
       "       [  0.        ,   0.        ,   0.        ,   0.        ,\n",
       "          0.        ,   0.        ,   0.        , 255.        ,\n",
       "        255.        , 255.        , 255.        , 255.        ,\n",
       "        255.        , 255.        , 255.        , 212.06644564,\n",
       "         54.6426487 ,  27.32132435,   0.        ,   0.        ,\n",
       "          0.        ,   0.        ,   0.        ,   0.        ,\n",
       "          0.        ,   0.        ,   0.        ,   0.        ],\n",
       "       [  0.        ,   0.        ,   0.        ,   0.        ,\n",
       "          0.        ,   0.        ,   0.        ,  35.12742198,\n",
       "        255.        , 255.        , 255.        , 255.        ,\n",
       "         68.9540593 ,  18.21421623,  18.21421623,  14.31118479,\n",
       "          0.        ,   0.        ,   0.        ,   0.        ,\n",
       "          0.        ,   0.        ,   0.        ,   0.        ,\n",
       "          0.        ,   0.        ,   0.        ,   0.        ]])"
      ]
     },
     "execution_count": 64,
     "metadata": {},
     "output_type": "execute_result"
    }
   ],
   "source": [
    "dots.pop(0)"
   ]
  },
  {
   "cell_type": "code",
   "execution_count": null,
   "metadata": {},
   "outputs": [],
   "source": [
    "cv2.waitKey(0)\n",
    "cv2.destroyAllWindows()"
   ]
  },
  {
   "cell_type": "code",
   "execution_count": null,
   "metadata": {},
   "outputs": [],
   "source": []
  },
  {
   "cell_type": "code",
   "execution_count": null,
   "metadata": {},
   "outputs": [],
   "source": []
  },
  {
   "cell_type": "code",
   "execution_count": null,
   "metadata": {},
   "outputs": [],
   "source": []
  },
  {
   "cell_type": "code",
   "execution_count": null,
   "metadata": {},
   "outputs": [],
   "source": []
  },
  {
   "cell_type": "code",
   "execution_count": null,
   "metadata": {},
   "outputs": [],
   "source": []
  },
  {
   "cell_type": "code",
   "execution_count": null,
   "metadata": {},
   "outputs": [],
   "source": []
  },
  {
   "cell_type": "code",
   "execution_count": null,
   "metadata": {},
   "outputs": [],
   "source": []
  },
  {
   "cell_type": "code",
   "execution_count": null,
   "metadata": {},
   "outputs": [],
   "source": [
    "#opencv\n",
    "canny_output = cv2.Canny(img,1,0)\n",
    "contours, hierarchy = cv2.findContours(canny_output, cv2.RETR_TREE, cv2.CHAIN_APPROX_SIMPLE)\n",
    "# Draw contours\n",
    "drawing = np.zeros((canny_output.shape[0], canny_output.shape[1], 3), dtype=np.uint8)\n",
    "for i in range(len(contours)):\n",
    "    color = (rng.randint(0,256), rng.randint(0,256), rng.randint(0,256))\n",
    "    cv2.drawContours(drawing, contours, i, color, 2, cv2.LINE_8, hierarchy, 0)"
   ]
  },
  {
   "cell_type": "code",
   "execution_count": null,
   "metadata": {},
   "outputs": [],
   "source": [
    "#opencv\n",
    "canny_output = cv2.Canny(img,1,0)\n",
    "contours, hierarchy = cv2.findContours(canny_output, cv2.RETR_TREE, cv2.CHAIN_APPROX_SIMPLE)\n",
    "# Draw contours\n",
    "drawing = np.zeros((canny_output.shape[0], canny_output.shape[1], 3), dtype=np.uint8)\n",
    "for i in range(len(contours)):\n",
    "    color = (rng.randint(0,256), rng.randint(0,256), rng.randint(0,256))\n",
    "    cv2.drawContours(drawing, contours, i, color, 2, cv2.LINE_8, hierarchy, 0)"
   ]
  },
  {
   "cell_type": "code",
   "execution_count": null,
   "metadata": {},
   "outputs": [],
   "source": [
    "#opencv\n",
    "canny_output = cv2.Canny(img,1,0)\n",
    "contours, hierarchy = cv2.findContours(canny_output, cv2.RETR_TREE, cv2.CHAIN_APPROX_SIMPLE)\n",
    "# Draw contours\n",
    "drawing = np.zeros((canny_output.shape[0], canny_output.shape[1], 3), dtype=np.uint8)\n",
    "for i in range(len(contours)):\n",
    "    color = (rng.randint(0,256), rng.randint(0,256), rng.randint(0,256))\n",
    "    cv2.drawContours(drawing, contours, i, color, 2, cv2.LINE_8, hierarchy, 0)"
   ]
  },
  {
   "cell_type": "code",
   "execution_count": null,
   "metadata": {},
   "outputs": [],
   "source": [
    "#opencv\n",
    "canny_output = cv2.Canny(img,1,0)\n",
    "contours, hierarchy = cv2.findContours(canny_output, cv2.RETR_TREE, cv2.CHAIN_APPROX_SIMPLE)\n",
    "# Draw contours\n",
    "drawing = np.zeros((canny_output.shape[0], canny_output.shape[1], 3), dtype=np.uint8)\n",
    "for i in range(len(contours)):\n",
    "    color = (rng.randint(0,256), rng.randint(0,256), rng.randint(0,256))\n",
    "    cv2.drawContours(drawing, contours, i, color, 2, cv2.LINE_8, hierarchy, 0)"
   ]
  },
  {
   "cell_type": "code",
   "execution_count": null,
   "metadata": {
    "scrolled": true
   },
   "outputs": [],
   "source": [
    "ret, thresh = cv2.threshold(img, 127, 255, 0)\n",
    "im2, contours = cv2.findContours(thresh, cv2.RETR_TREE, cv2.CHAIN_APPROX_SIMPLE)\n",
    "con_img = img.copy()\n",
    "cv2.drawContours(con_img, contours, -1, (0,255,0), 3)\n",
    "display(con_img)"
   ]
  },
  {
   "cell_type": "code",
   "execution_count": null,
   "metadata": {
    "scrolled": true
   },
   "outputs": [],
   "source": [
    "# kernel = cv2.getStructuringElement(cv2.MORPH_RECT, (20, 1))\n",
    "# connected = cv2.morphologyEx(img, cv2.MORPH_CLOSE, kernel)\n",
    "# display(connected)\n",
    "# find all the contours\n",
    "contours, hierarchy,=cv2.findContours(img.copy(),cv2.RETR_EXTERNAL, cv2.CHAIN_APPROX_NONE)\n",
    "#Segment the text lines\n",
    "counter=0\n",
    "array_of_texts=[]\n",
    "for idx in range(len(contours)):\n",
    "    x, y, w, h = cv2.boundingRect(contours[idx])\n",
    "    cropped_image = img[x-10:x+w+10,y: y+h ]\n",
    "#     str_store = re.sub(r'([^\\s\\w]|_)+', '', image_to_string(cropped_image))\n",
    "#     array_of_texts.append(str_store)\n",
    "#     counter+=1\n",
    "    print(cropped_image.shape)\n",
    "    display(cropped_image)\n",
    "\n",
    "print(array_of_texts)"
   ]
  },
  {
   "cell_type": "code",
   "execution_count": null,
   "metadata": {},
   "outputs": [],
   "source": [
    "im = cv2.imread('../second/cells/img1109_8.5_.jpg',0)\n",
    "preprocessing(im)"
   ]
  },
  {
   "cell_type": "code",
   "execution_count": null,
   "metadata": {},
   "outputs": [],
   "source": [
    "contours_(im)"
   ]
  },
  {
   "cell_type": "code",
   "execution_count": null,
   "metadata": {},
   "outputs": [],
   "source": [
    "f = os.listdir(\"../second/cells/\")\n",
    "c = 0\n",
    "a = 0\n",
    "for i in f:\n",
    "    if i != \"empty\":\n",
    "        lab = i.split('_')\n",
    "        im = cv2.imread('../second/cells/'+i,0)\n",
    "        _,th1 = cv2.threshold(im, 127,255, cv2.THRESH_OTSU)\n",
    "    #     plt.imshow(255-th1,cmap='gray');\n",
    "        img = 255-th1\n",
    "        h,w = img.shape\n",
    "        mask = np.ones(img.shape[:2], np.uint8)*0\n",
    "        mt = 10\n",
    "        mask[mt:h-mt, mt:w-mt] = 255\n",
    "        # display(mask)\n",
    "        img = cv2.bitwise_and(img,img,mask = mask)\n",
    "        plt.imshow(img);\n",
    "#         img = cv2.resize(img,(64,64))\n",
    "#         z = np.zeros((64,64))\n",
    "#         # z[16:48,16:48] = img\n",
    "#         z = img\n",
    "#         x_img = np.reshape(z,(1,64,64,1))\n",
    "#         test_pred = session.run(y_pred_cls, feed_dict={x: x_img, keep_prob: 1.0})\n",
    "#         pred_number = ''.join(str(x) for x in test_pred[0] if x != 10)\n",
    "#         print(pred_number,lab[1], float(pred_number)==float(lab[1]))\n",
    "#         if float(pred_number)==float(lab[1]):\n",
    "#             a += 1\n",
    "#         c += 1\n",
    "# print(\"Accuracy: \",a/c)\n",
    "#         plt.imshow(img,cmap='gray');"
   ]
  }
 ],
 "metadata": {
  "kernelspec": {
   "display_name": "Python 3",
   "language": "python",
   "name": "python3"
  }
 },
 "nbformat": 4,
 "nbformat_minor": 4
}
